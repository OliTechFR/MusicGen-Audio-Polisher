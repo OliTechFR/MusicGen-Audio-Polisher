{
  "cells": [
    {
      "cell_type": "markdown",
      "source": [
        "# 🎵 MusicGen Audio Generation and Setup"
      ],
      "metadata": {
        "id": "NHcfN4jLvu3M"
      }
    },
    {
      "cell_type": "markdown",
      "source": [
        "This notebook guides you through the complete setup required to use **MusicGen**, Facebook’s text-to-audio generation model, directly within Google Colab. It covers the installation of necessary dependencies, including Python 3.9 and **AudioCraft**, sets up the environment for seamless operation, and enables generating audio clips from text prompts.  \n",
        "\n",
        "All generated audio can be automatically saved to **Google Drive**, allowing for easy storage, organization, and later use. This notebook acts as a practical starting point for experimenting with MusicGen, exploring text-driven audio creation, and building a workflow to manage and utilize generated sounds efficiently."
      ],
      "metadata": {
        "id": "0N3jXqGhv3kb"
      }
    },
    {
      "cell_type": "markdown",
      "source": [
        "## 0️⃣ Adapt Python Version"
      ],
      "metadata": {
        "id": "OurMqEBlF516"
      }
    },
    {
      "cell_type": "markdown",
      "source": [
        "This section prepares the Colab environment to run **AudioCraft**, which requires **Python 3.9**. We ensure that the correct Python version is installed and prioritized, and that `pip` is updated accordingly.  \n",
        "\n",
        "**Action:** Run each cell in order to set up the environment. **Some cells may restart the runtime automatically.**"
      ],
      "metadata": {
        "id": "WUv2gGE4sxeE"
      }
    },
    {
      "cell_type": "code",
      "source": [
        "# Check Python versions\n",
        "!python --version\n",
        "!python3 --version\n",
        "\n",
        "# Check pip versions\n",
        "!pip --version\n",
        "!pip3 --version"
      ],
      "metadata": {
        "id": "RafVD5PCF-pK"
      },
      "execution_count": null,
      "outputs": []
    },
    {
      "cell_type": "code",
      "source": [
        "# Install Python 3.9\n",
        "!sudo apt-get install -y -qq python3.9\n",
        "\n",
        "# Set Python 3.9 as an alternative for 'python3'\n",
        "!sudo update-alternatives --install /usr/bin/python3 python3 /usr/bin/python3.9 5"
      ],
      "metadata": {
        "id": "HXaSb_9uGJQy"
      },
      "execution_count": null,
      "outputs": []
    },
    {
      "cell_type": "code",
      "source": [
        "# Verify that Python 3.9 is now the default version\n",
        "!python --version\n",
        "!python3 --version"
      ],
      "metadata": {
        "id": "YldurlURq_uj"
      },
      "execution_count": null,
      "outputs": []
    },
    {
      "cell_type": "code",
      "source": [
        "# Install Python 3.9 distutils (required for installing pip)\n",
        "!sudo apt-get install -y -qq python3.9-distutils\n",
        "\n",
        "# Download the latest get-pip script\n",
        "!curl -sS https://bootstrap.pypa.io/get-pip.py -o get-pip.py\n",
        "\n",
        "# Install pip for Python 3.9\n",
        "!sudo python get-pip.py\n",
        "\n",
        "# Set the newly installed pip3.9 as the default pip3\n",
        "!sudo update-alternatives --install /usr/bin/pip3 pip3 /usr/local/bin/pip3.9 5"
      ],
      "metadata": {
        "id": "lwAk_FXWGMrP"
      },
      "execution_count": null,
      "outputs": []
    },
    {
      "cell_type": "code",
      "source": [
        "# Verify that pip for Python 3.9 is now the default\n",
        "!pip --version\n",
        "!pip3 --version"
      ],
      "metadata": {
        "id": "6qLJ0HLqGePs"
      },
      "execution_count": null,
      "outputs": []
    },
    {
      "cell_type": "markdown",
      "source": [
        "## 1️⃣ Dependencies Installation"
      ],
      "metadata": {
        "id": "xYH4pCfqNMUV"
      }
    },
    {
      "cell_type": "markdown",
      "source": [
        "This cell installs all the core dependencies required to run **MusicGen** and **AudioCraft**. It includes **PyTorch 2.1.0**, upgrades essential Python packaging tools (`setuptools` and `wheel`), and installs the latest version of **AudioCraft** directly from GitHub.\n",
        "\n",
        "**Action:** Run this cell to install all dependencies. **This may take a few minutes, depending on your connection and runtime performance.**"
      ],
      "metadata": {
        "id": "SjQElk9jq9VC"
      }
    },
    {
      "cell_type": "code",
      "execution_count": null,
      "metadata": {
        "id": "5ra-NSWFuNPP",
        "collapsed": true
      },
      "outputs": [],
      "source": [
        "# Install PyTorch 2.1.0 required for MusicGen\n",
        "!python -m pip install 'torch==2.1.0' --index-url https://download.pytorch.org/whl/cu121\n",
        "\n",
        "# Upgrade core Python packaging tools to ensure smooth installations\n",
        "!python -m pip install --upgrade setuptools wheel\n",
        "\n",
        "# Install MusicGen (Audiocraft) from GitHub\n",
        "!python -m pip install -U audiocraft"
      ]
    },
    {
      "cell_type": "markdown",
      "source": [
        "## 2️⃣ Library Imports"
      ],
      "metadata": {
        "id": "Xlv7QYurNR53"
      }
    },
    {
      "cell_type": "markdown",
      "source": [
        "This cell imports all the necessary libraries for this notebook. It includes:\n",
        "\n",
        "- **Standard Python libraries** for file and environment management (`os`)  \n",
        "- **MusicGen / AudioCraft modules** for text-to-audio generation and audio file handling  \n",
        "- **Google Colab utilities** to connect and interact with Google Drive"
      ],
      "metadata": {
        "id": "JHuott5GrSzx"
      }
    },
    {
      "cell_type": "code",
      "source": [
        "# Standard library\n",
        "import os\n",
        "\n",
        "# MusicGen / AudioCraft\n",
        "from audiocraft.models import MusicGen\n",
        "from audiocraft.data.audio import audio_write\n",
        "\n",
        "# Colab utilities\n",
        "from google.colab import drive"
      ],
      "metadata": {
        "id": "Snf9sIaXNUI0"
      },
      "execution_count": null,
      "outputs": []
    },
    {
      "cell_type": "markdown",
      "source": [
        "## 3️⃣ Google Drive Setup"
      ],
      "metadata": {
        "id": "RmZNHs0XNXK4"
      }
    },
    {
      "cell_type": "markdown",
      "source": [
        "This cell connects your **Google Drive** to the Colab environment, allowing you to directly access and save files. It also defines the folder where all audio generated by **MusicGen** will be stored for easy organization and retrieval.\n",
        "\n",
        "**Action:** Run this cell and **authorize access to your Google Drive** when prompted to enable file saving and retrieval."
      ],
      "metadata": {
        "id": "O9J7fsLoriXg"
      }
    },
    {
      "cell_type": "code",
      "source": [
        "# Mount Google Drive to access and save files directly from/to your Drive\n",
        "drive.mount('/content/drive')\n",
        "\n",
        "# Define the folder path in Google Drive where generated music files will be saved\n",
        "output_folder = '/content/drive/MyDrive/MusicGen/outputs'"
      ],
      "metadata": {
        "id": "4jvrnDYRVQHx"
      },
      "execution_count": null,
      "outputs": []
    },
    {
      "cell_type": "markdown",
      "source": [
        "## 4️⃣ Load and Configure Model"
      ],
      "metadata": {
        "id": "HMfRJBitOz6M"
      }
    },
    {
      "cell_type": "markdown",
      "source": [
        "This cell loads a pre-trained **MusicGen** model from Hugging Face. The 'medium' model is a good balance between audio quality and generation speed. It also sets the duration of the audio clips to be generated, in this case **10 seconds**.\n",
        "\n",
        "**Action:** Run this cell to load the model. This may take a few minutes depending on your internet connection."
      ],
      "metadata": {
        "id": "PZnzKcrnrwvH"
      }
    },
    {
      "cell_type": "code",
      "execution_count": null,
      "metadata": {
        "id": "-oQV1IkSuNPS"
      },
      "outputs": [],
      "source": [
        "# Load the pre-trained 'medium' MusicGen model\n",
        "# 'Medium' is a balanced option between sound quality and speed\n",
        "model = MusicGen.get_pretrained('medium')\n",
        "\n",
        "# Set the duration of the music to generate (in seconds)\n",
        "model.set_generation_params(duration=10)"
      ]
    },
    {
      "cell_type": "markdown",
      "source": [
        "## 5️⃣ Define Music Prompts"
      ],
      "metadata": {
        "id": "0IFSzv_wO5UQ"
      }
    },
    {
      "cell_type": "markdown",
      "source": [
        "This cell defines a list of **text prompts** that describe the type of music to generate. Each prompt specifies style, instruments, tempo, and mood, guiding the **MusicGen model** to produce diverse audio clips based on these descriptions.\n",
        "\n",
        "**Action:** Modify the prompts list with your own creative ideas, then run this cell to load all prompts that will be used for music generation."
      ],
      "metadata": {
        "id": "obzyr7Ksr4qy"
      }
    },
    {
      "cell_type": "code",
      "source": [
        "prompts = [\n",
        "    \"A UK drill beat with deep sub-bass, fast hi-hats, and atmospheric background textures\",\n",
        "    \"Minimalist old-school freestyle beat, focused on punchy kicks and snappy snares\",\n",
        "    \"An African-influenced rap beat with percussive shakers, rhythmic guitars, and melodic vocal samples\",\n",
        "    \"Relaxing hip-hop loop with mellow electric piano and ambient textures\",\n",
        "    \"Lo-fi ambient groove featuring soft rain sounds, slow BPM, and nostalgic tones\",\n",
        "    \"Analog-feel lo-fi with warm filtering, muffled samples, and guitar licks\",\n",
        "    \"A cinematic orchestral score with driving percussion and heroic brass\",\n",
        "    \"Calm emotional piece with layered violins, subtle piano and slow dynamics\",\n",
        "    \"Magical waltz with dreamy instrumentation, harps, and light melodic flutes\",\n",
        "    \"High-tempo electronic beat with pounding bass and industrial textures\",\n",
        "    \"Uplifting trance atmosphere with rolling rhythms and euphoric layers\",\n",
        "    \"Futuristic glitchcore with bitcrushed leads, synthetic ambiance, and stutter FX\"\n",
        "]"
      ],
      "metadata": {
        "id": "T1UiNY86Vedx"
      },
      "execution_count": null,
      "outputs": []
    },
    {
      "cell_type": "markdown",
      "source": [
        "## 6️⃣ Generate and Save Audio"
      ],
      "metadata": {
        "id": "68_ekB1APBwy"
      }
    },
    {
      "cell_type": "markdown",
      "source": [
        "This cell iterates through all defined prompts to generate corresponding audio clips using the **MusicGen model**. Each generated clip is saved as a **.wav file** in the designated Google Drive folder, with a sequential filename for easy organization. The process prints the current prompt being generated to keep track of progress.\n",
        "\n",
        "**Action:** Run this cell to generate and save all audio clips from the list of prompts.\n",
        "\n",
        "[Here is a video about how to use MusicGen for AI music generation](https://www.youtube.com/watch?v=whePM9Ay7qQ)\n"
      ],
      "metadata": {
        "id": "pPMt07jSsCaC"
      }
    },
    {
      "cell_type": "code",
      "source": [
        "# Loop through each music prompt to generate and save audio files\n",
        "for i, prompt in enumerate(prompts):\n",
        "    # Print which prompt is being processed (e.g., \"Generating prompt 1/12\")\n",
        "    print(f\"🎵 Generating prompt {i+1}/12: {prompt}\")\n",
        "\n",
        "    # Generate music from the current text prompt using the MusicGen model\n",
        "    wav = model.generate([prompt])\n",
        "\n",
        "    # Create a filename with a two-digit index (e.g., musicgen_sample_01)\n",
        "    filename = f\"musicgen_sample_{i+1:02d}\"\n",
        "\n",
        "    # Save the generated audio as a .wav file in the specified output folder\n",
        "    audio_write(os.path.join(output_folder, filename), wav[0].cpu(), model.sample_rate)"
      ],
      "metadata": {
        "id": "FCZZBOFcVhL3"
      },
      "execution_count": null,
      "outputs": []
    }
  ],
  "metadata": {
    "kernelspec": {
      "display_name": "Python 3",
      "name": "python3"
    },
    "language_info": {
      "name": "python",
      "version": "3.10"
    },
    "colab": {
      "provenance": []
    }
  },
  "nbformat": 4,
  "nbformat_minor": 0
}